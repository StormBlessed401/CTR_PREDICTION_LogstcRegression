{
  "nbformat": 4,
  "nbformat_minor": 0,
  "metadata": {
    "colab": {
      "provenance": []
    },
    "kernelspec": {
      "name": "python3",
      "display_name": "Python 3"
    },
    "language_info": {
      "name": "python"
    }
  },
  "cells": [
    {
      "cell_type": "code",
      "execution_count": null,
      "metadata": {
        "id": "GKV2ntAEjodL"
      },
      "outputs": [],
      "source": [
        "#WITHOUT PIPELINE\n",
        "\n",
        "import pandas as pd\n",
        "from sklearn.model_selection import train_test_split\n",
        "from sklearn.preprocessing import StandardScaler, OneHotEncoder\n",
        "from sklearn.linear_model import LogisticRegression\n",
        "\n",
        "# Load data (already in your notebook as df)\n",
        "X = df[[\"Daily Time Spent on Site\", \"Age\", \"Area Income\", \"Daily Internet Usage\", \"Gender\"]]\n",
        "y = df[\"Clicked on Ad\"]\n",
        "\n",
        "# Train-test split\n",
        "X_train, X_test, y_train, y_test = train_test_split(X, y, test_size=0.2, random_state=42, stratify=y)\n",
        "\n",
        "# 1. Scale numeric columns\n",
        "scaler = StandardScaler()\n",
        "X_train_num = scaler.fit_transform(X_train[[\"Daily Time Spent on Site\", \"Age\", \"Area Income\", \"Daily Internet Usage\"]])\n",
        "X_test_num  = scaler.transform(X_test[[\"Daily Time Spent on Site\", \"Age\", \"Area Income\", \"Daily Internet Usage\"]])\n",
        "\n",
        "# 2. Encode categorical column (Gender)\n",
        "encoder = OneHotEncoder(drop=\"if_binary\", handle_unknown=\"ignore\")\n",
        "X_train_cat = encoder.fit_transform(X_train[[\"Gender\"]])\n",
        "X_test_cat  = encoder.transform(X_test[[\"Gender\"]])\n",
        "\n",
        "# 3. Combine numeric + categorical\n",
        "import numpy as np\n",
        "from scipy.sparse import hstack\n",
        "X_train_final = hstack([X_train_num, X_train_cat])\n",
        "X_test_final  = hstack([X_test_num, X_test_cat])\n",
        "\n",
        "# 4. Fit model\n",
        "model = LogisticRegression()\n",
        "model.fit(X_train_final, y_train)\n",
        "\n",
        "# 5. Predict\n",
        "y_pred = model.predict(X_test_final)\n"
      ]
    },
    {
      "cell_type": "code",
      "source": [
        "#WITH PIPELINE\n",
        "\n",
        "from sklearn.compose import ColumnTransformer\n",
        "from sklearn.pipeline import Pipeline\n",
        "\n",
        "numeric_cols = [\"Daily Time Spent on Site\", \"Age\", \"Area Income\", \"Daily Internet Usage\"]\n",
        "categorical_cols = [\"Gender\"]\n",
        "\n",
        "# Preprocessor = scale numeric + one-hot categorical\n",
        "preprocessor = ColumnTransformer([\n",
        "    (\"num\", StandardScaler(), numeric_cols),\n",
        "    (\"cat\", OneHotEncoder(drop=\"if_binary\", handle_unknown=\"ignore\"), categorical_cols)\n",
        "])\n",
        "\n",
        "# Full pipeline = preprocessing + model\n",
        "clf = Pipeline([\n",
        "    (\"pre\", preprocessor),\n",
        "    (\"model\", LogisticRegression())\n",
        "])\n",
        "\n",
        "# Fit & predict (no manual scaling/encoding!)\n",
        "clf.fit(X_train, y_train)\n",
        "y_pred = clf.predict(X_test)\n"
      ],
      "metadata": {
        "id": "L6OqIRLpkHhm"
      },
      "execution_count": null,
      "outputs": []
    }
  ]
}